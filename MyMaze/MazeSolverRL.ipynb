{
 "cells": [
  {
   "cell_type": "code",
   "execution_count": 1,
   "metadata": {
    "collapsed": true,
    "pycharm": {
     "name": "#%%\n"
    }
   },
   "outputs": [],
   "source": [
    "import tensorflow as tf\n",
    "from tensorflow import keras\n",
    "from Maze import Maze\n",
    "from time import time\n",
    "import numpy as np"
   ]
  },
  {
   "cell_type": "code",
   "execution_count": 2,
   "outputs": [],
   "source": [
    "optimizer = keras.optimizers.RMSprop()\n",
    "loss_fn = keras.losses.binary_crossentropy"
   ],
   "metadata": {
    "collapsed": false,
    "pycharm": {
     "name": "#%%\n"
    }
   }
  },
  {
   "cell_type": "code",
   "execution_count": 41,
   "outputs": [],
   "source": [
    "def train_reinforcement_network(n_layers, n_neurons, thresh=0.01, maze_height=5, maze_width=10):\n",
    "    if maze_height == 'random' and maze_width == 'random':\n",
    "        import random\n",
    "        maze_height = random.randint(5,30)\n",
    "        maze_width = random.randint(5,30)\n",
    "\n",
    "    network_layers = [keras.layers.Dense(Maze.N_INPUTS, activation=\"elu\", input_shape=[Maze.N_INPUTS])]\n",
    "    for i in range(n_layers):\n",
    "        network_layers.append(keras.layers.Dense(n_neurons, activation=\"relu\", kernel_initializer=\"he_normal\"))\n",
    "        network_layers.append(keras.layers.BatchNormalization())\n",
    "    network_layers.append(keras.layers.Dense(1, activation=\"sigmoid\"))\n",
    "    model = keras.models.Sequential(network_layers)\n",
    "\n",
    "    model.compile(optimizer, loss_fn)\n",
    "\n",
    "    loss = 1\n",
    "\n",
    "    step_counter = 1000\n",
    "    while step_counter > 20:\n",
    "        my_maze = Maze(maze_height, maze_width)\n",
    "        my_maze.create_maze()\n",
    "\n",
    "        step_counter = 0\n",
    "\n",
    "        start_time = time()\n",
    "        while not my_maze.is_maze_complete():\n",
    "            print(my_maze.player.r, my_maze.player.c)\n",
    "            with tf.GradientTape() as tape:\n",
    "                options = [int(x) for x in my_maze.get_maze_options()]\n",
    "                probas = model(options)\n",
    "                logits = tf.math.log(probas + tf.keras.backend.epsilon())\n",
    "                action = tf.random.categorical(logits, num_samples=1)\n",
    "                print(action)\n",
    "                loss = tf.reduce_mean(loss_fn(action, probas))\n",
    "            step_counter += 1\n",
    "\n",
    "\n",
    "        print(f'Training time: {time()-start_time}')"
   ],
   "metadata": {
    "collapsed": false,
    "pycharm": {
     "name": "#%%\n"
    }
   }
  },
  {
   "cell_type": "code",
   "execution_count": 42,
   "outputs": [
    {
     "name": "stdout",
     "output_type": "stream",
     "text": [
      "\n",
      "█ ▢ █ █ █ █ █ █ █ █ \n",
      "█   █   █       █ █ \n",
      "█           █     █ \n",
      "█ █   █   █ █ █   █ \n",
      "█ █ █ █ █ █ █ █ △ █ \n",
      "\n",
      "\n",
      "\n",
      "4 8\n"
     ]
    },
    {
     "ename": "TypeError",
     "evalue": "list indices must be integers or slices, not NoneType",
     "output_type": "error",
     "traceback": [
      "\u001B[1;31m---------------------------------------------------------------------------\u001B[0m",
      "\u001B[1;31mTypeError\u001B[0m                                 Traceback (most recent call last)",
      "Input \u001B[1;32mIn [42]\u001B[0m, in \u001B[0;36m<cell line: 1>\u001B[1;34m()\u001B[0m\n\u001B[1;32m----> 1\u001B[0m \u001B[43mtrain_reinforcement_network\u001B[49m\u001B[43m(\u001B[49m\u001B[38;5;241;43m5\u001B[39;49m\u001B[43m,\u001B[49m\u001B[43m \u001B[49m\u001B[38;5;241;43m100\u001B[39;49m\u001B[43m,\u001B[49m\u001B[43m \u001B[49m\u001B[43mthresh\u001B[49m\u001B[38;5;241;43m=\u001B[39;49m\u001B[38;5;241;43m0.4\u001B[39;49m\u001B[43m,\u001B[49m\u001B[43m \u001B[49m\u001B[43mmaze_height\u001B[49m\u001B[38;5;241;43m=\u001B[39;49m\u001B[38;5;241;43m5\u001B[39;49m\u001B[43m,\u001B[49m\u001B[43m \u001B[49m\u001B[43mmaze_width\u001B[49m\u001B[38;5;241;43m=\u001B[39;49m\u001B[38;5;241;43m10\u001B[39;49m\u001B[43m)\u001B[49m\n",
      "Input \u001B[1;32mIn [41]\u001B[0m, in \u001B[0;36mtrain_reinforcement_network\u001B[1;34m(n_layers, n_neurons, thresh, maze_height, maze_width)\u001B[0m\n\u001B[0;32m     28\u001B[0m \u001B[38;5;28;01mwith\u001B[39;00m tf\u001B[38;5;241m.\u001B[39mGradientTape() \u001B[38;5;28;01mas\u001B[39;00m tape:\n\u001B[0;32m     29\u001B[0m     options \u001B[38;5;241m=\u001B[39m [\u001B[38;5;28mint\u001B[39m(x) \u001B[38;5;28;01mfor\u001B[39;00m x \u001B[38;5;129;01min\u001B[39;00m my_maze\u001B[38;5;241m.\u001B[39mget_maze_options()]\n\u001B[1;32m---> 30\u001B[0m     probas \u001B[38;5;241m=\u001B[39m model(\u001B[43moptions\u001B[49m\u001B[43m[\u001B[49m\u001B[43mnp\u001B[49m\u001B[38;5;241;43m.\u001B[39;49m\u001B[43mnewaxis\u001B[49m\u001B[43m]\u001B[49m)\n\u001B[0;32m     31\u001B[0m     logits \u001B[38;5;241m=\u001B[39m tf\u001B[38;5;241m.\u001B[39mmath\u001B[38;5;241m.\u001B[39mlog(probas \u001B[38;5;241m+\u001B[39m tf\u001B[38;5;241m.\u001B[39mkeras\u001B[38;5;241m.\u001B[39mbackend\u001B[38;5;241m.\u001B[39mepsilon())\n\u001B[0;32m     32\u001B[0m     action \u001B[38;5;241m=\u001B[39m tf\u001B[38;5;241m.\u001B[39mrandom\u001B[38;5;241m.\u001B[39mcategorical(logits, num_samples\u001B[38;5;241m=\u001B[39m\u001B[38;5;241m1\u001B[39m)\n",
      "\u001B[1;31mTypeError\u001B[0m: list indices must be integers or slices, not NoneType"
     ]
    }
   ],
   "source": [
    "train_reinforcement_network(5, 100, thresh=0.4, maze_height=5, maze_width=10)"
   ],
   "metadata": {
    "collapsed": false,
    "pycharm": {
     "name": "#%%\n"
    }
   }
  },
  {
   "cell_type": "code",
   "execution_count": null,
   "outputs": [],
   "source": [],
   "metadata": {
    "collapsed": false,
    "pycharm": {
     "name": "#%%\n"
    }
   }
  }
 ],
 "metadata": {
  "kernelspec": {
   "display_name": "Python 3",
   "language": "python",
   "name": "python3"
  },
  "language_info": {
   "codemirror_mode": {
    "name": "ipython",
    "version": 2
   },
   "file_extension": ".py",
   "mimetype": "text/x-python",
   "name": "python",
   "nbconvert_exporter": "python",
   "pygments_lexer": "ipython2",
   "version": "2.7.6"
  }
 },
 "nbformat": 4,
 "nbformat_minor": 0
}