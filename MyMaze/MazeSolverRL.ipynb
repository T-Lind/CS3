{
 "cells": [
  {
   "cell_type": "code",
   "execution_count": 8,
   "metadata": {
    "collapsed": true,
    "pycharm": {
     "name": "#%%\n"
    }
   },
   "outputs": [],
   "source": [
    "import tensorflow as tf\n",
    "from tensorflow import keras\n",
    "from Maze import Maze\n",
    "from time import time\n",
    "import numpy as np"
   ]
  },
  {
   "cell_type": "code",
   "execution_count": 9,
   "outputs": [],
   "source": [
    "optimizer = keras.optimizers.Adam(learning_rate=0.01)\n",
    "huber_loss = keras.losses.Huber()\n",
    "action_probs_history = []\n",
    "critic_value_history = []\n",
    "rewards_history = []"
   ],
   "metadata": {
    "collapsed": false,
    "pycharm": {
     "name": "#%%\n"
    }
   }
  },
  {
   "cell_type": "code",
   "execution_count": 10,
   "outputs": [],
   "source": [
    "def train_reinforcement_network(n_neurons, maze_height=5, maze_width=10, gamma=0.3, eps=np.finfo(np.float32).eps.item()):\n",
    "    \"\"\"\n",
    "    Training algorithm for the maze\n",
    "    :param gamma: The discount value for past rewards\n",
    "    :param eps: The epsilon value (small number!0)\n",
    "    :param n_neurons: The number of neurons for the common layer\n",
    "    :param maze_height: The starting maze height (increases by 1 each training run)\n",
    "    :param maze_width: The starting maze width (increases by 1 each training run)\n",
    "    :return:\n",
    "    \"\"\"\n",
    "    if maze_height == 'random' and maze_width == 'random':\n",
    "        import random\n",
    "        maze_height = random.randint(5,30)\n",
    "        maze_width = random.randint(5,30)\n",
    "\n",
    "    inputs = keras.layers.Input(shape=(Maze.N_INPUTS,))\n",
    "\n",
    "    common = keras.layers.Dense(n_neurons, activation=\"relu\")(inputs)\n",
    "    action = keras.layers.Dense(Maze.N_INPUTS, activation=\"softmax\")(common)\n",
    "    critic = keras.layers.Dense(1)(common)\n",
    "\n",
    "    # The full RL model with the action layer and the critic\n",
    "    model = keras.Model(inputs=inputs, outputs=[action, critic])\n",
    "\n",
    "    running_reward = 0\n",
    "\n",
    "\n",
    "    mazes_complete = 0\n",
    "    while True:\n",
    "        # Reward for the current run\n",
    "        episode_reward = 0\n",
    "\n",
    "        # Create a maze and display it!\n",
    "        my_maze = Maze(maze_height, maze_width)\n",
    "        my_maze.create_maze()\n",
    "        my_maze.print_maze()\n",
    "\n",
    "        state: list\n",
    "\n",
    "        maze_height += 1\n",
    "        maze_width += 1\n",
    "\n",
    "        # Loop through the steps of one maze\n",
    "        start_time = time()\n",
    "        iteration = 0\n",
    "        prog_bar = keras.utils.Progbar(1)\n",
    "        while not my_maze.is_maze_complete():\n",
    "            iteration += 1\n",
    "            # print(f\"Iteration: {iteration}\", my_maze.player.r, my_maze.player.c)\n",
    "            with tf.GradientTape() as tape:\n",
    "                state = tf.convert_to_tensor([int(x) for x in my_maze.get_maze_options()])\n",
    "                state = tf.expand_dims(state, 0)\n",
    "\n",
    "                action_probs, critic_value = model(state)\n",
    "                critic_value_history.append(critic_value[0, 0])\n",
    "\n",
    "\n",
    "                p = np.squeeze(action_probs)\n",
    "\n",
    "                action = np.random.choice(Maze.N_INPUTS, p=p)\n",
    "                action_probs_history.append(tf.math.log(action_probs[0, action]))\n",
    "\n",
    "                reward = my_maze.take_action(action)\n",
    "                prog_bar.update(reward)\n",
    "                rewards_history.append(reward)\n",
    "                episode_reward += reward\n",
    "\n",
    "\n",
    "                running_reward = 0.05 * episode_reward + (1 - 0.05) * running_reward\n",
    "\n",
    "                # Calculate expected value from rewards\n",
    "                returns = []\n",
    "                discounted_sum = 0\n",
    "                for r in rewards_history[::-1]:\n",
    "                    discounted_sum = r + gamma * discounted_sum\n",
    "                    returns.insert(0, discounted_sum)\n",
    "\n",
    "                # Normalize\n",
    "                returns = np.array(returns)\n",
    "                returns = (returns - np.mean(returns)) / (np.std(returns) + eps)\n",
    "                returns = returns.tolist()\n",
    "\n",
    "                # Calculating loss values to update our network\n",
    "                history = zip(action_probs_history, critic_value_history, returns)\n",
    "                actor_losses = []\n",
    "                critic_losses = []\n",
    "                for log_prob, value, ret in history:\n",
    "                    diff = ret - value\n",
    "                    actor_losses.append(-log_prob * diff)  # actor loss\n",
    "\n",
    "                    critic_losses.append(huber_loss(tf.expand_dims(value, 0), tf.expand_dims(ret, 0)))\n",
    "\n",
    "                # Backpropagation\n",
    "                loss_value = sum(actor_losses) + sum(critic_losses)\n",
    "                grads = tape.gradient(loss_value, model.trainable_variables)\n",
    "                optimizer.apply_gradients(zip(grads, model.trainable_variables))\n",
    "        print(f'Training time: {time()-start_time}')\n",
    "        mazes_complete += 1\n"
   ],
   "metadata": {
    "collapsed": false,
    "pycharm": {
     "name": "#%%\n"
    }
   }
  },
  {
   "cell_type": "code",
   "execution_count": null,
   "outputs": [
    {
     "name": "stdout",
     "output_type": "stream",
     "text": [
      "\n",
      "█ ▢ █ █ \n",
      "█     █ \n",
      "█   █ █ \n",
      "█ △ █ █ \n",
      "\n",
      "\n",
      "\n",
      "0/1 [================>.............] - ETA: 0sTraining time: 0.5130038261413574\n",
      "\n",
      "█ ▢ █ █ █ \n",
      "█   █   █ \n",
      "█   █   █ \n",
      "█       █ \n",
      "█ █ █ △ █ \n",
      "\n",
      "\n",
      "\n",
      "0/1 [=========>....................] - ETA: 4:14Training time: 135.51229071617126\n",
      "\n",
      "█ ▢ █ █ █ █ \n",
      "█         █ \n",
      "█ █   █ █ █ \n",
      "█         █ \n",
      "█ █   █   █ \n",
      "█ █ █ █ △ █ \n",
      "\n",
      "\n",
      "\n",
      "0/1 [=============>................] - ETA: 1:05Training time: 65.26499938964844\n",
      "\n",
      "█ ▢ █ █ █ █ █ \n",
      "█       █   █ \n",
      "█   █ █ █   █ \n",
      "█     █ █   █ \n",
      "█   █ █ █   █ \n",
      "█           █ \n",
      "█ █ █ █ █ △ █ \n",
      "\n",
      "\n",
      "\n",
      "0/1 [..............................] - ETA: 27:41"
     ]
    }
   ],
   "source": [
    "train_reinforcement_network(n_neurons=5, maze_height=4, maze_width=4)"
   ],
   "metadata": {
    "collapsed": false,
    "pycharm": {
     "name": "#%%\n",
     "is_executing": true
    }
   }
  },
  {
   "cell_type": "code",
   "execution_count": null,
   "outputs": [],
   "source": [],
   "metadata": {
    "collapsed": false,
    "pycharm": {
     "name": "#%%\n",
     "is_executing": true
    }
   }
  },
  {
   "cell_type": "code",
   "execution_count": null,
   "outputs": [],
   "source": [],
   "metadata": {
    "collapsed": false,
    "pycharm": {
     "name": "#%%\n"
    }
   }
  }
 ],
 "metadata": {
  "kernelspec": {
   "display_name": "Python 3",
   "language": "python",
   "name": "python3"
  },
  "language_info": {
   "codemirror_mode": {
    "name": "ipython",
    "version": 2
   },
   "file_extension": ".py",
   "mimetype": "text/x-python",
   "name": "python",
   "nbconvert_exporter": "python",
   "pygments_lexer": "ipython2",
   "version": "2.7.6"
  }
 },
 "nbformat": 4,
 "nbformat_minor": 0
}