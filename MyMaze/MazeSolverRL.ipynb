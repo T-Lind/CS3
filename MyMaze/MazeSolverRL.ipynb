{
 "cells": [
  {
   "cell_type": "code",
   "execution_count": 21,
   "metadata": {
    "collapsed": true,
    "pycharm": {
     "name": "#%%\n"
    }
   },
   "outputs": [],
   "source": [
    "import tensorflow as tf\n",
    "from tensorflow import keras\n",
    "from Maze import Maze\n",
    "from time import time\n",
    "import numpy as np"
   ]
  },
  {
   "cell_type": "code",
   "execution_count": 22,
   "outputs": [],
   "source": [
    "optimizer = keras.optimizers.RMSprop()\n",
    "loss_fn = keras.losses.binary_crossentropy"
   ],
   "metadata": {
    "collapsed": false,
    "pycharm": {
     "name": "#%%\n"
    }
   }
  },
  {
   "cell_type": "code",
   "execution_count": 55,
   "outputs": [],
   "source": [
    "def train_reinforcement_network(n_layers, n_neurons, thresh=0.01, maze_height=5, maze_width=10):\n",
    "    if maze_height == 'random' and maze_width == 'random':\n",
    "        import random\n",
    "        maze_height = random.randint(5,30)\n",
    "        maze_width = random.randint(5,30)\n",
    "\n",
    "    network_layers = [keras.layers.Dense(Maze.N_INPUTS, activation=\"elu\", input_shape=[Maze.N_INPUTS])]\n",
    "    for i in range(n_layers):\n",
    "        network_layers.append(keras.layers.Dense(n_neurons, activation=\"relu\", kernel_initializer=\"he_normal\"))\n",
    "        network_layers.append(keras.layers.BatchNormalization())\n",
    "    network_layers.append(keras.layers.Dense(1, activation=\"sigmoid\"))\n",
    "    model = keras.models.Sequential(network_layers)\n",
    "\n",
    "\n",
    "    loss = 1\n",
    "\n",
    "    step_counter = 1000\n",
    "    while step_counter > 20:\n",
    "        my_maze = Maze(maze_height, maze_width)\n",
    "        my_maze.create_maze()\n",
    "\n",
    "        step_counter = 0\n",
    "\n",
    "        start_time = time()\n",
    "        while not my_maze.is_maze_complete():\n",
    "            with tf.GradientTape() as tape:\n",
    "                options = tf.Variable([[int(x) for x in my_maze.get_maze_options()]])\n",
    "                probas = model(options)\n",
    "                logits = tf.math.log(probas + tf.keras.backend.epsilon())\n",
    "                action = tf.random.categorical(logits, num_samples=1)\n",
    "                loss = tf.reduce_mean(loss_fn(action, probas))\n",
    "\n",
    "            step_counter += 1\n",
    "\n",
    "            my_maze.take_action(action[0][0])\n",
    "        print(f'Training time: {time()-start_time}')"
   ],
   "metadata": {
    "collapsed": false,
    "pycharm": {
     "name": "#%%\n"
    }
   }
  },
  {
   "cell_type": "code",
   "execution_count": null,
   "outputs": [],
   "source": [
    "train_reinforcement_network(5, 100, thresh=0.4, maze_height=5, maze_width=10)"
   ],
   "metadata": {
    "collapsed": false,
    "pycharm": {
     "name": "#%%\n",
     "is_executing": true
    }
   }
  },
  {
   "cell_type": "code",
   "execution_count": 4,
   "outputs": [],
   "source": [],
   "metadata": {
    "collapsed": false,
    "pycharm": {
     "name": "#%%\n"
    }
   }
  }
 ],
 "metadata": {
  "kernelspec": {
   "display_name": "Python 3",
   "language": "python",
   "name": "python3"
  },
  "language_info": {
   "codemirror_mode": {
    "name": "ipython",
    "version": 2
   },
   "file_extension": ".py",
   "mimetype": "text/x-python",
   "name": "python",
   "nbconvert_exporter": "python",
   "pygments_lexer": "ipython2",
   "version": "2.7.6"
  }
 },
 "nbformat": 4,
 "nbformat_minor": 0
}